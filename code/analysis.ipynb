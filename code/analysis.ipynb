{
 "cells": [
  {
   "cell_type": "markdown",
   "metadata": {},
   "source": [
    "# NFL Concussion Prevention Analysis\n",
    "\n",
    "*By Alex Wainger (Data Engineer, Facebook)*"
   ]
  },
  {
   "cell_type": "markdown",
   "metadata": {},
   "source": [
    "### Proposed Rule Change\n",
    "Eliminate the rule that kicking team players cannot go more than a yard past the line of scrimmage before a punt.$^{[1]}$\n",
    "\n",
    "### Rationale\n",
    "In this analysis, I'll show that removing this rule and allowing the kicking team to immediately release downfield **will reduce punt-related concussions by ~33%** while minimally impacting the receiving team's starting field position and the occurence of exciting returns. Removing this rule will , which is the most dangerous part of the play.\n",
    "\n",
    "### Background\n",
    "The NFL introduced the rule before the 1974 season,$^{[2]}$ inspired by a similar rule change made by the NCAA in 1967.$^{[3]}$ The rule was part of \"a package of changes to reinvigorate the game by...increasing the opportunity for big plays on kickoff and punt returns...\"$^{[4]}$ in an effort to combat the launch of the World Football League — a rival league that \"sought to attract fans with rules that were friendlier to the offense than the NFL’s\" — in the year prior.$^{[4]}$ \n",
    "\n",
    "However, even in 1974, some were concerned about the health implications of this new rule. Bill Curry, President of the Players Association at the time, said \"the possibility of wide‐open punt returns with bodies crashing downfield is anathema to the players.\"$^{[5]}$ Despite the concerns, the rule change was approved and has now been part of the NFL rulebook for 45 years."
   ]
  },
  {
   "cell_type": "markdown",
   "metadata": {},
   "source": [
    "Sources:\n",
    "1. https://operations.nfl.com/the-rules/2018-nfl-rulebook/#article-2.-kicking-team-players-on-line-during-kick\n",
    "2. https://en.wikipedia.org/wiki/1974_NFL_season#Major_rule_changes\n",
    "3. https://en.wikipedia.org/wiki/1967_college_football_season#Rule_changes\n",
    "4. https://operations.nfl.com/the-rules/evolution-of-the-nfl-rules\n",
    "5. https://www.nytimes.com/1974/05/21/archives/changes-bynfl-opposed-nfl-rule-changes-bring-opposition.html"
   ]
  },
  {
   "cell_type": "code",
   "execution_count": 1,
   "metadata": {},
   "outputs": [],
   "source": [
    "import feather\n",
    "import matplotlib.pyplot as plt\n",
    "import numpy as np\n",
    "import pandas as pd\n",
    "\n",
    "from scipy.stats import ttest_ind\n",
    "from sklearn.ensemble import GradientBoostingClassifier\n",
    "from sklearn.linear_model import LogisticRegression\n",
    "from sklearn.metrics import roc_auc_score, log_loss\n",
    "from sklearn.model_selection import train_test_split, GridSearchCV\n",
    "\n",
    "%matplotlib inline\n",
    "pd.set_option('display.max_columns', None)\n",
    "pd.set_option('display.expand_frame_repr', False)\n",
    "pd.set_option('max_colwidth', -1)"
   ]
  },
  {
   "cell_type": "markdown",
   "metadata": {},
   "source": [
    "## Loading Data + EDA"
   ]
  },
  {
   "cell_type": "markdown",
   "metadata": {},
   "source": [
    "I'll spare you from going through all the exploration and visualization I did for this project. Instead, I'll show a couple relevant charts and numbers that inspired my proposed rule change."
   ]
  },
  {
   "cell_type": "code",
   "execution_count": 2,
   "metadata": {},
   "outputs": [],
   "source": [
    "# Loading all the datasets I built in the preprocessing notebook\n",
    "play_information = feather.read_dataframe('../output/play_information.feather')\n",
    "game_data = feather.read_dataframe('../output/game_data.feather')\n",
    "play_player_role_data = feather.read_dataframe('../output/play_player_role_data.feather')\n",
    "min_distances = feather.read_dataframe('../output/min_distances.feather')\n",
    "second_min_distances = feather.read_dataframe('../output/second_min_distances.feather')\n",
    "punt_hangtime = feather.read_dataframe('../output/punt_hangtime.feather')\n",
    "video_review = feather.read_dataframe('../output/video_review.feather')"
   ]
  },
  {
   "cell_type": "code",
   "execution_count": 3,
   "metadata": {},
   "outputs": [],
   "source": [
    "# Building a master play-level dataset\n",
    "aug_play_information = play_information.merge(\n",
    "    min_distances[['GameKey', 'PlayID', 'Coverage_Distance']],\n",
    "    on=['GameKey', 'PlayID'], how='left', validate='one_to_one'\n",
    ").merge(\n",
    "    second_min_distances[['GameKey', 'PlayID', 'Coverage_Distance']],\n",
    "    on=['GameKey', 'PlayID'], how='left', validate='one_to_one',\n",
    "    suffixes=['_1', '_2']\n",
    ").merge(\n",
    "    game_data[['GameKey', 'Temperature', 'Is_Grass', 'Is_Outdoor']] ,\n",
    "    on=['GameKey'], how='left', validate='many_to_one'\n",
    ").merge(\n",
    "    punt_hangtime[['GameKey', 'PlayID', 'Hangtime']],\n",
    "    on=['GameKey', 'PlayID'], how='left', validate='one_to_one'\n",
    ").merge(\n",
    "    video_review,\n",
    "    on=['GameKey', 'PlayID'], how='left', validate='one_to_one',\n",
    ")\n",
    "\n",
    "aug_play_information['Has_Concussion'] = ~aug_play_information.GSISID.isna()"
   ]
  },
  {
   "cell_type": "code",
   "execution_count": 4,
   "metadata": {},
   "outputs": [
    {
     "name": "stdout",
     "output_type": "stream",
     "text": [
      "Total plays: 6681\n",
      "Plays with a punt: 6462\n",
      "Plays with a concussion: 37\n",
      "Plays with a punt and a concussion: 36\n"
     ]
    }
   ],
   "source": [
    "plays_with_punts = aug_play_information[aug_play_information.Has_Punt]\n",
    "plays_with_concussions = aug_play_information[aug_play_information.Has_Concussion]\n",
    "\n",
    "print(\"Total plays:\", aug_play_information.shape[0])\n",
    "print(\"Plays with a punt:\", plays_with_punts.shape[0])\n",
    "print(\"Plays with a concussion:\", plays_with_concussions.shape[0])\n",
    "print(\"Plays with a punt and a concussion:\", plays_with_concussions[plays_with_concussions.Has_Punt].shape[0])"
   ]
  },
  {
   "cell_type": "markdown",
   "metadata": {},
   "source": [
    "The 219 plays without a punt are mostly fakes and plays blown dead by penalties, and with only 1 concussion, I'm going to exclude them and focus on plays in which the ball is actually punted for the rest of the analysis.\n",
    "\n",
    "I looked at a bunch of slices of these 36 concussions, but one stood out in particular — concussion rates on plays with fair catches, returns, or unreturnable punts (i.e. punts out of bounds, downed punts, touchbacks, etc)."
   ]
  },
  {
   "cell_type": "code",
   "execution_count": 46,
   "metadata": {},
   "outputs": [
    {
     "name": "stdout",
     "output_type": "stream",
     "text": [
      "The difference in concussion rates is statistically significant.\n",
      "p-value: 0.000001\n"
     ]
    },
    {
     "data": {
      "image/png": "[encoded data removed]",
      "text/plain": [
       "<Figure size 720x360 with 1 Axes>"
      ]
     },
     "metadata": {
      "needs_background": "light"
     },
     "output_type": "display_data"
    }
   ],
   "source": [
    "plays_with_concussions = plays_with_concussions[plays_with_concussions.Has_Punt]\n",
    "\n",
    "concussion_rates = plays_with_concussions.Punt_Type.value_counts() / plays_with_punts.Punt_Type.value_counts()\n",
    "ax = concussion_rates.plot(\n",
    "    kind='barh', figsize=(10,5), color='#2678B2', fontsize=12,\n",
    "    title='Concussions Occur Over 5x More Often On Returned Punts')\n",
    "vals = ax.get_xticks()\n",
    "ax.set(xlabel=\"# Plays with Concussion / # Plays\", xticklabels=['{:,.1%}'.format(x) for x in vals]);\n",
    "ax.xaxis.label.set_size(14)\n",
    "ax.title.set_size(16)\n",
    "\n",
    "ttest_res = ttest_ind(\n",
    "    plays_with_punts[plays_with_punts.Has_Return].Has_Concussion, \n",
    "    plays_with_punts[~plays_with_punts.Has_Return].Has_Concussion\n",
    ")\n",
    "\n",
    "if ttest_res.pvalue < .05:\n",
    "    print('The difference in concussion rates is statistically significant.')\n",
    "else:\n",
    "    print('The difference in consussion rates is not statistically significant.')\n",
    "print('p-value:', '%f' % ttest_res.pvalue)"
   ]
  },
  {
   "cell_type": "markdown",
   "metadata": {},
   "source": [
    "With a concussion rate of over 1%, a player is over 5x more likely to get concussed on a punt with a return than a play without one (and this difference is statistically significant). This makes intuitive sense, as I would have guessed that the most dangerous part of a punt play was during the return, when there are clusters of players running into each other from all directions.\n",
    "\n",
    "To validate this finding, I reviewed all of the videos of the plays with concussions. **Of the 31 concussions on plays with returns, 30 of the concussions occurred after the punt was caught by the returner**, so converting those plays from returns to fair catches or unreturnables would avoid the concussions."
   ]
  },
  {
   "cell_type": "markdown",
   "metadata": {},
   "source": [
    "## FAIR CATCH MODEL"
   ]
  },
  {
   "cell_type": "markdown",
   "metadata": {},
   "source": [
    "At this point, I knew my rule change would involve trying to reduce the number of punts that get returned. I focused primarily on converting returns into fair-catches. To do this, I first tried to understand what the drivers of fair catches were.\n",
    "\n",
    "I had a hypothesis that the distance between the punt returner and the nearest member of the kicking team would give us a lot of information about whether or not a fair catch was called. To prove it, I built a model to predict whether or not a punt play ended with a fair catch."
   ]
  },
  {
   "cell_type": "code",
   "execution_count": 6,
   "metadata": {},
   "outputs": [],
   "source": [
    "plays_with_return = plays_with_punts[plays_with_punts.Has_Return]\n",
    "plays_with_fair_catch = plays_with_punts[plays_with_punts.Has_Fair_Catch]"
   ]
  },
  {
   "cell_type": "code",
   "execution_count": 7,
   "metadata": {},
   "outputs": [],
   "source": [
    "label = ['Has_Fair_Catch']\n",
    "features = [\n",
    "    'Punt_Distance', 'Time_Passed_Sec', 'Score_Differential',\n",
    "    'Yard_Line_Absolute', 'Coverage_Distance_1', 'Coverage_Distance_2',\n",
    "    'Hangtime', 'Temperature', 'Is_Grass', 'Is_Outdoor'\n",
    "]\n",
    "\n",
    "plays_with_return_or_fc = pd.concat(\n",
    "    [plays_with_return, plays_with_fair_catch]\n",
    ")[['GameKey', 'PlayID'] + features + label].dropna()\n",
    "\n",
    "x_train, x_test, y_train, y_test = train_test_split(\n",
    "    plays_with_return_or_fc[features],\n",
    "    plays_with_return_or_fc[label],\n",
    "    test_size=0.2,\n",
    "    random_state=0\n",
    ")\n",
    "\n",
    "y_train = y_train.values.ravel()\n",
    "y_test = y_test.values.ravel()"
   ]
  },
  {
   "cell_type": "code",
   "execution_count": 8,
   "metadata": {},
   "outputs": [
    {
     "name": "stdout",
     "output_type": "stream",
     "text": [
      "{'learning_rate': 0.05, 'max_depth': 2, 'n_estimators': 100}\n"
     ]
    }
   ],
   "source": [
    "parameters = {\n",
    "    'n_estimators':[10, 50, 100],\n",
    "    'learning_rate': [.01, .05, .1],\n",
    "    'max_depth': [1, 2, 3]\n",
    "}\n",
    "\n",
    "search = GridSearchCV(GradientBoostingClassifier(random_state=0), parameters, cv=3)\n",
    "search.fit(x_train, y_train)\n",
    "\n",
    "print(search.best_params_)"
   ]
  },
  {
   "cell_type": "markdown",
   "metadata": {},
   "source": [
    "The model is trained on punts with returns as negative examples (unreturnable punts aren't really relevant here, since we're trying to learn how to convert returns to fair catches) and performs pretty well! Given the sample sizes we're working with, the data we have available and it's reliability, and the amount of actual randomness in the decision to call a fair catch, I'm happy with the accuracy."
   ]
  },
  {
   "cell_type": "code",
   "execution_count": 9,
   "metadata": {},
   "outputs": [
    {
     "name": "stdout",
     "output_type": "stream",
     "text": [
      "Train accuracy: 0.8513363028953229\n",
      "Test accuracy: 0.844097995545657\n",
      "ROC AUC: 0.9150970622668735\n"
     ]
    }
   ],
   "source": [
    "# Using best params from grid-search above\n",
    "gbdt = GradientBoostingClassifier(\n",
    "    n_estimators=search.best_params_['n_estimators'],\n",
    "    learning_rate=search.best_params_['learning_rate'],\n",
    "    max_depth=search.best_params_['max_depth'],\n",
    "    random_state=0\n",
    ").fit(x_train, y_train)\n",
    "\n",
    "y_scores_gbdt = gbdt.predict_proba(x_test)[:,1]\n",
    "\n",
    "print(\"Train accuracy:\",gbdt.score(x_train, y_train))\n",
    "print(\"Test accuracy:\", gbdt.score(x_test, y_test))\n",
    "print(\"ROC AUC:\", roc_auc_score(y_test, y_scores_gbdt))"
   ]
  },
  {
   "cell_type": "markdown",
   "metadata": {},
   "source": [
    "Looking at the feature importances for our fair-catch model, my original hypothesis was correct — coverage distance, i.e. distance between PR and members of the coverage team at punt catch time, is the most important feature to our model. The \\_1 and \\_2 subscripts denote the minimal coverage distance and the second smallest coverage distance."
   ]
  },
  {
   "cell_type": "code",
   "execution_count": 51,
   "metadata": {},
   "outputs": [
    {
     "data": {
      "image/png": "[encoded data removed]",
      "text/plain": [
       "<Figure size 720x360 with 1 Axes>"
      ]
     },
     "metadata": {
      "needs_background": "light"
     },
     "output_type": "display_data"
    }
   ],
   "source": [
    "ax = pd.DataFrame(\n",
    "    gbdt.feature_importances_,\n",
    "    index = x_train.columns,\n",
    "    columns=['importance']\n",
    ").sort_values('importance', ascending=True).plot(\n",
    "    title='Fair-Catch Model Feature Importances', kind='barh', legend=False, figsize=(10,5), fontsize=12\n",
    ")\n",
    "\n",
    "ax.title.set_size(16)"
   ]
  },
  {
   "cell_type": "markdown",
   "metadata": {},
   "source": [
    "So we know coverage distance is by far the most important feature in predicting fair catches. Logically, there is probably an inverse relationship between coverage distance and fair catches, i.e. smaller coverage distance --> larger odds of a fair catch. To confirm this, I trained a logistic regression model to look at the direction of the coefficients -- and it's right!"
   ]
  },
  {
   "cell_type": "code",
   "execution_count": 52,
   "metadata": {},
   "outputs": [
    {
     "name": "stdout",
     "output_type": "stream",
     "text": [
      "Train accuracy: 0.8243318485523385\n",
      "Test accuracy: 0.8307349665924276\n",
      "ROC AUC: 0.8942361621606905\n"
     ]
    },
    {
     "data": {
      "image/png": "[encoded data removed]",
      "text/plain": [
       "<Figure size 720x360 with 1 Axes>"
      ]
     },
     "metadata": {
      "needs_background": "light"
     },
     "output_type": "display_data"
    }
   ],
   "source": [
    "logreg = LogisticRegression(solver='liblinear', random_state=2).fit(x_train, y_train)\n",
    "y_scores_logreg = logreg.predict_proba(x_test)[:,1]\n",
    "y_pred_logreg = logreg.predict(x_test)\n",
    "\n",
    "print(\"Train accuracy:\",logreg.score(x_train, y_train))\n",
    "print(\"Test accuracy:\", logreg.score(x_test, y_test))\n",
    "print(\"ROC AUC:\", roc_auc_score(y_test, y_scores_logreg))\n",
    "\n",
    "ax = pd.DataFrame(\n",
    "    logreg.coef_.transpose(),\n",
    "    index=x_train.columns,\n",
    "    columns=['coefficients']\n",
    ").sort_values('coefficients').plot(\n",
    "    kind='barh', legend=False, title='Logistic Regression Feature Coefficients', figsize=(10,5), fontsize=14\n",
    ")\n",
    "\n",
    "ax.title.set_size(16)\n"
   ]
  },
  {
   "cell_type": "markdown",
   "metadata": {},
   "source": [
    "## Estimating Impact of the Rule Change"
   ]
  },
  {
   "cell_type": "markdown",
   "metadata": {},
   "source": [
    "Knowing what we now know about fair catches, the rule holding non-gunners at the line of scrimmage until the punt stood out as an area of opportunity — it holds most of the kicking team back and gives returners space to return the ball, which we know is associated with higher concussion rates.\n",
    "\n",
    "Removing the rule would allow players to release downfield into coverage whenever they want. It will strictly decrease the minimal coverage distance — conservative teams afraid of punt blocks will hold their blocking as long as they do now, while more aggressive teams will leave the line of scrimmage well before the punt leaves the punter's foot.\n",
    "\n",
    "To estimate how many returns get converted into fair catches, I did the following:\n",
    "1. Measure the amount of time between the snap and punt events.\n",
    "2. Calculate the average speed of each kicking-team non-gunner between the punt and the reception.\n",
    "3. Picking some fraction to represent how much sooner the kicking team would start downfield, calculate \"adjusted coverage distances\" —\n",
    "   1. For gunners, this is the same as the coverage distance we originally calculated for the model\n",
    "   2. For non-gunners, *adjusted_coverage_distance = coverage_distance - (snap_to_punt_time X average_speed X blocking_to_coverage_time_fraction)*\n",
    "4. Feed the smallest and second smallest adjusted coverage distances back into our trained fair catch model that we developed earlier and see how many returns are now predicted to be fair catches."
   ]
  },
  {
   "cell_type": "code",
   "execution_count": 12,
   "metadata": {},
   "outputs": [],
   "source": [
    "def update_coverage_distance(row):\n",
    "    snap_to_punt_time_adjustment = .5 # Percentage of blocking time converted to coverage time\n",
    "    minimal_coverage_distance = .5 # don't let adjusted coverage distance get smaller than half a yard\n",
    "    if 'GL' in row.Role_k or 'GR' in row.Role_k:\n",
    "        return row.Coverage_Distance\n",
    "    else:\n",
    "        return max(\n",
    "            row.Coverage_Distance - (\n",
    "                row.Yards_Per_Second * (\n",
    "                    row.Snap_To_Punt_time * snap_to_punt_time_adjustment\n",
    "                )\n",
    "            ), minimal_coverage_distance\n",
    "        )"
   ]
  },
  {
   "cell_type": "code",
   "execution_count": 56,
   "metadata": {},
   "outputs": [],
   "source": [
    "# Calculate Adjusted Coverage Distances\n",
    "adjusted_coverage_distances = feather.read_dataframe('../output/adjusted_coverage_distances.feather')\n",
    "\n",
    "adjusted_coverage_distances['Adj_Coverage_Distance'] = adjusted_coverage_distances.apply(\n",
    "    update_coverage_distance, axis=1\n",
    ")\n",
    "\n",
    "min_acd = adjusted_coverage_distances.loc[\n",
    "    adjusted_coverage_distances.groupby(['GameKey', 'PlayID'])['Adj_Coverage_Distance'].idxmin()\n",
    "][['GameKey', 'PlayID', 'Adj_Coverage_Distance', 'Role_k', 'Super_Role_k']]\n",
    "\n",
    "adjusted_coverage_distances_2 = adjusted_coverage_distances.drop(\n",
    "    adjusted_coverage_distances.groupby(['GameKey', 'PlayID'])['Adj_Coverage_Distance'].idxmin()\n",
    ")\n",
    "\n",
    "second_min_acd = adjusted_coverage_distances_2.loc[\n",
    "    adjusted_coverage_distances_2.groupby(['GameKey', 'PlayID'])['Adj_Coverage_Distance'].idxmin()\n",
    "][['GameKey', 'PlayID', 'Adj_Coverage_Distance', 'Role_k', 'Super_Role_k']]"
   ]
  },
  {
   "cell_type": "markdown",
   "metadata": {},
   "source": [
    "Looking first at the breakdown of which member of the coverage team is closest to the punt returner at punt reception time, we can see that the rule change drastically changes the distribution. In the game today, gunners are the closest player nearly 80% of the time, but that number gets nearly cut in half after my rule change. This is a good sign for the rule change, as it means the minimum coverage distance is getting smaller, as linemen and protectors are getting to the punt returner before the gunners much more often."
   ]
  },
  {
   "cell_type": "code",
   "execution_count": 62,
   "metadata": {},
   "outputs": [
    {
     "data": {
      "image/png": "[encoded data removed]",
      "text/plain": [
       "<Figure size 720x360 with 1 Axes>"
      ]
     },
     "metadata": {
      "needs_background": "light"
     },
     "output_type": "display_data"
    }
   ],
   "source": [
    "ax = pd.DataFrame(\n",
    "    {\n",
    "        \"Before Rule Change\": min_distances.Super_Role_k.value_counts() / min_acd.shape[0],\n",
    "        \"After Rule Change\": min_acd.Super_Role_k.value_counts() / min_acd.shape[0]\n",
    "    }\n",
    ").plot(\n",
    "    kind='barh', figsize=(10,5), title='Nearest Coverage Team Member At Time Of Punt Reception'\n",
    ")\n",
    "\n",
    "vals = ax.get_xticks()\n",
    "ax.set(xlabel=\"% of Plays\", xticklabels=['{:,.0%}'.format(x) for x in vals])\n",
    "\n",
    "ax.title.set_size(16)"
   ]
  },
  {
   "cell_type": "code",
   "execution_count": 59,
   "metadata": {},
   "outputs": [],
   "source": [
    "# Evaluate trained model on new adjusted coverage distance features\n",
    "adj_features = [\n",
    "    'Punt_Distance', 'Time_Passed_Sec', 'Score_Differential',\n",
    "    'Yard_Line_Absolute', 'Adj_Coverage_Distance_1', 'Adj_Coverage_Distance_2',\n",
    "    'Hangtime', 'Temperature', 'Is_Grass', 'Is_Outdoor'\n",
    "]\n",
    "\n",
    "adj_X = plays_with_return_or_fc.merge(\n",
    "    min_acd, on=['GameKey', 'PlayID'], how='inner', validate='one_to_one'\n",
    ").merge(\n",
    "    second_min_acd, on=['GameKey', 'PlayID'], how='inner', validate='one_to_one', suffixes=[\"_1\", \"_2\"]\n",
    ")\n",
    "\n",
    "adj_X['Adj_Has_Fair_Catch_pred'] = gbdt.predict(adj_X[adj_features]) | adj_X.Has_Fair_Catch"
   ]
  },
  {
   "cell_type": "code",
   "execution_count": 60,
   "metadata": {},
   "outputs": [],
   "source": [
    "adj_plays_with_punts = plays_with_punts.merge(\n",
    "    adj_X[['GameKey', 'PlayID', 'Adj_Has_Fair_Catch_pred']],\n",
    "    on=['GameKey', 'PlayID'], how='left', validate='one_to_one'\n",
    ")\n",
    "\n",
    "adj_plays_with_punts['Adj_Punt_Type'] = adj_plays_with_punts.apply(\n",
    "    lambda row:\n",
    "        row.Punt_Type\n",
    "        if pd.isna(row.Adj_Has_Fair_Catch_pred)\n",
    "        else (\n",
    "            'fair catch'\n",
    "            if row.Adj_Has_Fair_Catch_pred\n",
    "            else 'return'\n",
    "        )\n",
    "    , axis=1\n",
    ")\n",
    "adj_plays_with_punts['Adj_Has_Fair_Catch_pred'] = adj_plays_with_punts.Adj_Punt_Type == 'fair catch'\n",
    "adj_plays_with_punts['Adj_Punt_Return_Length'] = adj_plays_with_punts.apply(\n",
    "    lambda row:\n",
    "        row.Punt_Return_Length\n",
    "        if not row.Adj_Has_Fair_Catch_pred\n",
    "        else 0.0\n",
    "    , axis=1\n",
    ")"
   ]
  },
  {
   "cell_type": "code",
   "execution_count": 61,
   "metadata": {
    "scrolled": true
   },
   "outputs": [
    {
     "data": {
      "image/png": "[encoded data removed]",
      "text/plain": [
       "<Figure size 720x360 with 1 Axes>"
      ]
     },
     "metadata": {
      "needs_background": "light"
     },
     "output_type": "display_data"
    }
   ],
   "source": [
    "ax = pd.DataFrame(\n",
    "    {\n",
    "        \"(Estimated) After Rule Change\": adj_plays_with_punts.Adj_Punt_Type.value_counts() / adj_plays_with_punts.shape[0],\n",
    "        \"Before Rule Change\": adj_plays_with_punts.Punt_Type.value_counts() / adj_plays_with_punts.shape[0]\n",
    "    }, index=adj_plays_with_punts.Punt_Type.unique()\n",
    ").transpose().plot(kind='barh', title='Rule Change Increases Fair Catch Frequency from 25% to 40%', figsize=(10,5))\n",
    "vals = ax.get_xticks()\n",
    "ax.set(xlabel=\"% of Plays\", xticklabels=['{:,.0%}'.format(x) for x in vals]);\n",
    "\n",
    "ax.xaxis.label.set_size(14)\n",
    "ax.title.set_size(16)\n"
   ]
  },
  {
   "cell_type": "markdown",
   "metadata": {},
   "source": [
    "As expected, the percent of plays that end with a fair catch jumps from 25% to 40% and becomes the most common way to end a punt play."
   ]
  },
  {
   "cell_type": "markdown",
   "metadata": {},
   "source": [
    "### Concussion Rate"
   ]
  },
  {
   "cell_type": "code",
   "execution_count": 66,
   "metadata": {},
   "outputs": [
    {
     "name": "stdout",
     "output_type": "stream",
     "text": [
      "# Concussions Before Rule Change: 36\n",
      "# Concussions After Rule Change: 24\n",
      "Percent Decrease in Concussions: 33.3%\n"
     ]
    }
   ],
   "source": [
    "pre_concussions = adj_plays_with_punts.Has_Concussion.sum()\n",
    "post_concussions = (\n",
    "    adj_plays_with_punts.Has_Concussion & ~(\n",
    "        (adj_plays_with_punts.Punt_Type == 'return') & (adj_plays_with_punts.Adj_Punt_Type == 'fair catch')\n",
    "    )\n",
    ").sum()\n",
    "print(\"# Concussions Before Rule Change:\", pre_concussions)\n",
    "print(\"# Concussions After Rule Change:\", post_concussions)\n",
    "print(\"Percent Decrease in Concussions: {:,.1%}\".format((pre_concussions - post_concussions) / pre_concussions))"
   ]
  },
  {
   "cell_type": "markdown",
   "metadata": {},
   "source": [
    "To understand the impact that this rule change could have on the occurrences of concussions, I removed any concussions that happened on returns that got converted to fair catches after the rule change. This is obviously a rough estimate, as there are a number of assumptions and randomness baked into this analysis, but the result shows that converting returns to fair catches could have a significant impact on overall concussion rates."
   ]
  },
  {
   "cell_type": "markdown",
   "metadata": {},
   "source": [
    "### Field Position and \"Exciting\" Returns"
   ]
  },
  {
   "cell_type": "markdown",
   "metadata": {},
   "source": [
    "So concussion rates are going down, great! But what if this rule change takes away all the excitement of punt returns, or drastically changes the average starting field position for the receiving team? Luckily, the increases in fair catches doesn't have too big an impact on either."
   ]
  },
  {
   "cell_type": "code",
   "execution_count": 67,
   "metadata": {},
   "outputs": [
    {
     "name": "stdout",
     "output_type": "stream",
     "text": [
      "Of Returnable Punts (fair catch or return)\n",
      "    Average Starting Yard Line Before Change: 28.4\n",
      "    Average Starting Yard Line After Change: 27.0\n",
      "\n",
      " ------------------------------------------------------------ \n",
      "\n",
      "Of All Punts (returnable and unreturnable)\n",
      "    Percent of total punt plays with >20 yard return before change: 4.1%\n",
      "    Percent of total punt plays with >20 yard return after change: 3.1%\n"
     ]
    }
   ],
   "source": [
    "exciting_return_length = 20\n",
    "\n",
    "adj_plays_with_punts['Next_Poss_Yard_Line'] = adj_plays_with_punts.apply(\n",
    "    lambda row:\n",
    "        np.nan\n",
    "        if row.Punt_Type == 'unreturnable'\n",
    "        else 100 - (row.Yard_Line_Absolute + row.Punt_Distance - row.Punt_Return_Length)\n",
    "    , axis=1\n",
    ")\n",
    "\n",
    "adj_plays_with_punts['Adj_Next_Poss_Yard_Line'] = adj_plays_with_punts.apply(\n",
    "   lambda row:\n",
    "        np.nan\n",
    "        if row.Adj_Punt_Type == 'unreturnable'\n",
    "        else 100 - (row.Yard_Line_Absolute + row.Punt_Distance - row.Adj_Punt_Return_Length)\n",
    "    , axis=1\n",
    ")\n",
    "\n",
    "adj_plays_with_returnable_punts = adj_plays_with_punts[\n",
    "    adj_plays_with_punts.Has_Return | adj_plays_with_punts.Has_Fair_Catch\n",
    "]\n",
    "\n",
    "print(\"Of Returnable Punts (fair catch or return)\")\n",
    "print(\"    Average Starting Yard Line Before Change: {:,.1f}\".format(\n",
    "    adj_plays_with_returnable_punts.Next_Poss_Yard_Line.mean()\n",
    "))\n",
    "print(\"    Average Starting Yard Line After Change: {:,.1f}\".format(\n",
    "    adj_plays_with_returnable_punts.Adj_Next_Poss_Yard_Line.mean()\n",
    "))\n",
    "\n",
    "print('\\n','-'*60, '\\n')\n",
    "\n",
    "print(\"Of All Punts (returnable and unreturnable)\")\n",
    "print(\"    Percent of total punt plays with >20 yard return before change: {:,.1%}\".format(\n",
    "    (adj_plays_with_punts.Punt_Return_Length > exciting_return_length).sum() / adj_plays_with_punts.shape[0]\n",
    "))\n",
    "print(\"    Percent of total punt plays with >20 yard return after change: {:,.1%}\".format(\n",
    "    (adj_plays_with_punts.Adj_Punt_Return_Length > exciting_return_length).sum() / adj_plays_with_punts.shape[0]\n",
    "))"
   ]
  },
  {
   "cell_type": "markdown",
   "metadata": {},
   "source": [
    "Average starting field position drops by just a yard and a half. While 4.1% to 3.1% represents a ~25% decrease in plays with an \"exciting\" punt return (defined here as a return of 20 yards or more), the fact that only 1 in 25 punts end up having an exciting return even without the rule change likely means fans won't notice the downtick, as long as there is still a big run back every now and then."
   ]
  },
  {
   "cell_type": "markdown",
   "metadata": {},
   "source": [
    "## Unintended Consequences"
   ]
  },
  {
   "cell_type": "markdown",
   "metadata": {},
   "source": [
    "In terms of effects I can reasonably estimate with data, the rule change seems to do exactly what I want it to do. However, there could still be side-effects or unintended consequences of the rule change. It's hard to quantify how each of these mind affect the game, but I don't think any of them outweigh the reduction in concussions."
   ]
  },
  {
   "cell_type": "markdown",
   "metadata": {},
   "source": [
    "#### NCAA-style Rugby Rollout Punts\n",
    "Since the NCAA allows the kicking team to release downfield on the snap, we can learn a lot from college teams cover punts. The most obvious difference between the college and professional punting game is the use of a rugby-style punt — some college teams will roll their punter out toward the sideline, buying time for the rest of the coverage team to sprint further downfield than they would with a standard 3-step punt. My rule change could cause a rise an inadvertent rise in this type of strategy.\n",
    "\n",
    "However, I don't actually think rugby rollout punts would catch on in the NFL. College punters often don't have the leg strength to hit a 50 yard punt with 4-5 seconds of hangtime. As a result, teams turn to a gimmicky play to compensate. At the NFL level, punters can boom kicks far and high enough that coverage teams have time to get down field with just 1-2 seconds before the kick (and they'll have even more time under my rule change). Top NCAA teams like Alabama or Clemson, which sport NFL-ready punters, mostly stay traditional with their punt style.\n",
    "\n",
    "The rugby rollout also requires a very particular skill-set — ability to punt (or at least threaten to punt) with either leg while on the run — that most NFL punters likely don't practice. Initially, teams may try the tactic, but it would take a few seasons of experimenting and practice under the rule change to master the rugby rollout, at which point the NFL would have some data to evaluate whether or not it's good for the game.\n",
    "\n",
    "#### Increase in Fake Punt Runs\n",
    "\n",
    "..."
   ]
  },
  {
   "cell_type": "code",
   "execution_count": null,
   "metadata": {},
   "outputs": [],
   "source": []
  }
 ],
 "metadata": {
  "kernelspec": {
   "display_name": "Python 3",
   "language": "python",
   "name": "python3"
  },
  "language_info": {
   "codemirror_mode": {
    "name": "ipython",
    "version": 3
   },
   "file_extension": ".py",
   "mimetype": "text/x-python",
   "name": "python",
   "nbconvert_exporter": "python",
   "pygments_lexer": "ipython3",
   "version": "3.7.2"
  }
 },
 "nbformat": 4,
 "nbformat_minor": 2
}
